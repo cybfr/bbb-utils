{
  "nbformat": 4,
  "nbformat_minor": 0,
  "metadata": {
    "colab": {
      "provenance": [],
      "include_colab_link": true
    },
    "kernelspec": {
      "name": "python3",
      "display_name": "Python 3"
    },
    "language_info": {
      "name": "python"
    }
  },
  "cells": [
    {
      "cell_type": "markdown",
      "metadata": {
        "id": "view-in-github",
        "colab_type": "text"
      },
      "source": [
        "<a href=\"https://colab.research.google.com/github/cybfr/bbb-utils/blob/master/lancer_d%C3%A9_2.ipynb\" target=\"_parent\"><img src=\"https://colab.research.google.com/assets/colab-badge.svg\" alt=\"Open In Colab\"/></a>"
      ]
    },
    {
      "cell_type": "markdown",
      "source": [
        "# Échantillonage et fluctuation\n",
        "### Rappel\n",
        "- On dit que l'on **répète une éxpérience aléatoire de façon indépendante** lorsque le résultat de chaque expérience ne dépend pas du résultat de l'expérience précédente.\n",
        "- Lorsqu'on répète *n* fois une expérience aléatoire de façon identique, on appelle **échantillon de taille *n*** l'ensemble des *n* résultats."
      ],
      "metadata": {
        "id": "PO00DV08LPr5"
      }
    },
    {
      "cell_type": "markdown",
      "source": [
        "## Lancer de dé"
      ],
      "metadata": {
        "id": "qE5Rq5USA3KE"
      }
    },
    {
      "cell_type": "code",
      "execution_count": null,
      "metadata": {
        "id": "QPDTcChdx10v"
      },
      "outputs": [],
      "source": [
        "from random import *\n",
        "def lancer_dé():\n",
        "  return(randint(1,6))"
      ]
    },
    {
      "cell_type": "markdown",
      "source": [
        "La fonction `dé()` retrourne un entier pseudo-aléatoire entre 1 et 6"
      ],
      "metadata": {
        "id": "DFGK4DneyaeT"
      }
    },
    {
      "cell_type": "code",
      "source": [
        "for i in range(1,80):\n",
        "  print(lancer_dé(),end=',')"
      ],
      "metadata": {
        "id": "4WytXwkb8rqi",
        "colab": {
          "base_uri": "https://localhost:8080/"
        },
        "outputId": "f59279e1-86ff-4175-f3ab-5047ef5f1b3f"
      },
      "execution_count": null,
      "outputs": [
        {
          "output_type": "stream",
          "name": "stdout",
          "text": [
            "3,5,1,1,6,2,6,4,6,4,4,2,6,4,3,1,2,1,6,6,5,6,5,5,2,6,4,3,3,2,4,4,1,1,6,6,4,5,1,5,5,4,4,4,6,2,3,3,3,2,6,6,4,2,2,6,4,3,2,3,5,3,3,6,3,1,5,2,5,6,1,3,4,2,3,6,4,6,1,"
          ]
        }
      ]
    },
    {
      "cell_type": "code",
      "source": [
        "def f_échantillon(n,a):\n",
        "    compteur=0\n",
        "    for i in range(0,n-1):\n",
        "        if lancer_dé()==a:\n",
        "          compteur+=1/n\n",
        "    return(compteur)"
      ],
      "metadata": {
        "id": "cZOcNXa99LJD"
      },
      "execution_count": null,
      "outputs": []
    },
    {
      "cell_type": "markdown",
      "source": [
        "La fonction `dé(n,a)` retourne la fréquence d'optention de `a` dans `n` lancers."
      ],
      "metadata": {
        "id": "GrAQyjz2Hs1M"
      }
    },
    {
      "cell_type": "code",
      "source": [
        "print(f_échantillon(10000,3))"
      ],
      "metadata": {
        "id": "vgitDt6N06ac",
        "colab": {
          "base_uri": "https://localhost:8080/"
        },
        "outputId": "d8e021e7-625f-4ec2-b7dc-96a1899cb8a8"
      },
      "execution_count": null,
      "outputs": [
        {
          "output_type": "stream",
          "name": "stdout",
          "text": [
            "0.15879999999999883\n"
          ]
        }
      ]
    },
    {
      "cell_type": "code",
      "source": [
        "def sondages(nb_points,taille):\n",
        "  échantillons=[]\n",
        "  for i in range(0,nb_points):\n",
        "    échantillons.append(f_échantillon(taille,3))\n",
        "  return(échantillons)"
      ],
      "metadata": {
        "id": "rD3OMOulFhGN"
      },
      "execution_count": null,
      "outputs": []
    },
    {
      "cell_type": "markdown",
      "source": [],
      "metadata": {
        "id": "cDiFJHaXHMBS"
      }
    },
    {
      "cell_type": "code",
      "source": [
        "from matplotlib import pyplot as plt\n",
        "nb_points=100"
      ],
      "metadata": {
        "id": "U-OEeNQxOFOO"
      },
      "execution_count": null,
      "outputs": []
    },
    {
      "cell_type": "code",
      "source": [
        "plt.axis([0,nb_points,0,.4])\n",
        "plt.ylabel('Fréquences')\n",
        "plt.xlabel('100 lancers')\n",
        "plt.plot(sondages(nb_points,100),'rx')\n",
        "#plt.show()"
      ],
      "metadata": {
        "id": "3Yx4WCW7HNEM",
        "colab": {
          "base_uri": "https://localhost:8080/",
          "height": 472
        },
        "outputId": "c38f1718-4558-473b-a24b-12539ef60d82"
      },
      "execution_count": null,
      "outputs": [
        {
          "output_type": "execute_result",
          "data": {
            "text/plain": [
              "[<matplotlib.lines.Line2D at 0x7f9a3d63bd90>]"
            ]
          },
          "metadata": {},
          "execution_count": 18
        },
        {
          "output_type": "display_data",
          "data": {
            "text/plain": [
              "<Figure size 640x480 with 1 Axes>"
            ],
            "image/png": "[encoded data removed]"
          },
          "metadata": {}
        }
      ]
    },
    {
      "cell_type": "code",
      "source": [
        "plt.plot(sondages(nb_points,1000),'bx')\n",
        "plt.axis([0,nb_points,0,.4])\n",
        "#plt.show()"
      ],
      "metadata": {
        "id": "ZURbgQhABU-Y",
        "colab": {
          "base_uri": "https://localhost:8080/",
          "height": 453
        },
        "outputId": "996f9808-d67c-45de-a302-b91a3a0ee1d1"
      },
      "execution_count": null,
      "outputs": [
        {
          "output_type": "execute_result",
          "data": {
            "text/plain": [
              "(0.0, 100.0, 0.0, 0.4)"
            ]
          },
          "metadata": {},
          "execution_count": 15
        },
        {
          "output_type": "display_data",
          "data": {
            "text/plain": [
              "<Figure size 640x480 with 1 Axes>"
            ],
            "image/png": "[encoded data removed]"
          },
          "metadata": {}
        }
      ]
    },
    {
      "cell_type": "code",
      "source": [
        "plt.plot(sondages(nb_points,10000),'gx')\n",
        "plt.axis([0,nb_points,0,.4])\n",
        "plt.show()"
      ],
      "metadata": {
        "id": "BTWqoAigB38g",
        "colab": {
          "base_uri": "https://localhost:8080/",
          "height": 435
        },
        "outputId": "8250e8dd-9dfb-4133-9331-e50c3d6d5eef"
      },
      "execution_count": null,
      "outputs": [
        {
          "output_type": "display_data",
          "data": {
            "text/plain": [
              "<Figure size 640x480 with 1 Axes>"
            ],
            "image/png": "[encoded data removed]"
          },
          "metadata": {}
        }
      ]
    },
    {
      "cell_type": "code",
      "source": [
        "from random import *\n",
        "\n",
        "def lancer_pieces():\n",
        "  return(randint(1,2))\n",
        "\n",
        "for i in range(1,30):\n",
        "  print(lancer_pieces(),end='')\n"
      ],
      "metadata": {
        "id": "n0miZecZAOBG",
        "colab": {
          "base_uri": "https://localhost:8080/"
        },
        "outputId": "e862cb21-56cc-4252-9544-43deccf7df43"
      },
      "execution_count": null,
      "outputs": [
        {
          "output_type": "stream",
          "name": "stdout",
          "text": [
            "11122212121122212121221111111"
          ]
        }
      ]
    },
    {
      "cell_type": "code",
      "source": [
        "def f_piece(n,a):\n",
        "  compteur=0\n",
        "  for i in range(1,n):  \n",
        "    if lancer_pieces() == a:\n",
        "      compteur+=1\n",
        "  return(compteur/n)\n",
        "\n",
        "print(f_piece(100,1))"
      ],
      "metadata": {
        "colab": {
          "base_uri": "https://localhost:8080/"
        },
        "id": "cWnAnI3qJ4On",
        "outputId": "7f30c8f8-0f9c-41a9-9301-1b45bea9bdc5"
      },
      "execution_count": null,
      "outputs": [
        {
          "output_type": "stream",
          "name": "stdout",
          "text": [
            "0.46\n"
          ]
        }
      ]
    },
    {
      "cell_type": "code",
      "source": [
        "for i in range(100):\n",
        "  "
      ],
      "metadata": {
        "id": "q6f6RnAMMb9f"
      },
      "execution_count": null,
      "outputs": []
    }
  ]
}